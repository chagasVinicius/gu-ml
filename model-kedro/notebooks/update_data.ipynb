{
 "cells": [
  {
   "cell_type": "code",
   "execution_count": 1,
   "id": "224a2ae7-a500-4c01-82c8-39c487a80115",
   "metadata": {},
   "outputs": [],
   "source": [
    "import pandas as pd"
   ]
  },
  {
   "cell_type": "code",
   "execution_count": 4,
   "id": "ce1f55e9-48dc-42c3-86a9-18d84b929c2c",
   "metadata": {},
   "outputs": [],
   "source": [
    "train_df = pd.read_csv('../../model/datasets/challenge_train.csv')\n",
    "test_df = pd.read_csv('../../model/datasets/challenge_test.csv')"
   ]
  },
  {
   "cell_type": "code",
   "execution_count": 7,
   "id": "06bdbd72-cb6b-4384-98b2-8435712d26f2",
   "metadata": {},
   "outputs": [],
   "source": [
    "train_df_ = train_df[['id', 'name', 'mana', 'attack', 'health', 'type', 'god']]"
   ]
  },
  {
   "cell_type": "code",
   "execution_count": 9,
   "id": "3ad5a87c-0431-4b37-b865-33e921f28cac",
   "metadata": {},
   "outputs": [
    {
     "data": {
      "text/html": [
       "<pre style=\"white-space:pre;overflow-x:auto;line-height:normal;font-family:Menlo,'DejaVu Sans Mono',consolas,'Courier New',monospace\"></pre>\n"
      ],
      "text/plain": []
     },
     "metadata": {},
     "output_type": "display_data"
    },
    {
     "data": {
      "text/plain": [
       "\u001b[1;35mIndex\u001b[0m\u001b[1m(\u001b[0m\u001b[1m[\u001b[0m\u001b[32m'id'\u001b[0m, \u001b[32m'name'\u001b[0m, \u001b[32m'mana'\u001b[0m, \u001b[32m'attack'\u001b[0m, \u001b[32m'health'\u001b[0m, \u001b[32m'type'\u001b[0m, \u001b[32m'god'\u001b[0m\u001b[1m]\u001b[0m, \u001b[33mdtype\u001b[0m=\u001b[32m'object'\u001b[0m\u001b[1m)\u001b[0m"
      ]
     },
     "execution_count": 9,
     "metadata": {},
     "output_type": "execute_result"
    }
   ],
   "source": [
    "train_df_.columns"
   ]
  },
  {
   "cell_type": "code",
   "execution_count": 10,
   "id": "fddbbed2-ae0c-46c8-a006-6b4d2149cd8e",
   "metadata": {},
   "outputs": [
    {
     "data": {
      "text/html": [
       "<pre style=\"white-space:pre;overflow-x:auto;line-height:normal;font-family:Menlo,'DejaVu Sans Mono',consolas,'Courier New',monospace\"></pre>\n"
      ],
      "text/plain": []
     },
     "metadata": {},
     "output_type": "display_data"
    },
    {
     "data": {
      "text/plain": [
       "\u001b[1;35mIndex\u001b[0m\u001b[1m(\u001b[0m\u001b[1m[\u001b[0m\u001b[32m'id'\u001b[0m, \u001b[32m'name'\u001b[0m, \u001b[32m'mana'\u001b[0m, \u001b[32m'attack'\u001b[0m, \u001b[32m'health'\u001b[0m, \u001b[32m'type'\u001b[0m, \u001b[32m'god'\u001b[0m\u001b[1m]\u001b[0m, \u001b[33mdtype\u001b[0m=\u001b[32m'object'\u001b[0m\u001b[1m)\u001b[0m"
      ]
     },
     "execution_count": 10,
     "metadata": {},
     "output_type": "execute_result"
    }
   ],
   "source": [
    "test_df.columns"
   ]
  },
  {
   "cell_type": "code",
   "execution_count": 16,
   "id": "49add06d-71a2-4001-ace3-b7191a21818a",
   "metadata": {},
   "outputs": [],
   "source": [
    "all_data = pd.concat([train_df_, test_df])"
   ]
  },
  {
   "cell_type": "code",
   "execution_count": 18,
   "id": "cd3cb05a-76b9-4c54-8fdf-d94ce4b05595",
   "metadata": {},
   "outputs": [],
   "source": [
    "import joblib"
   ]
  },
  {
   "cell_type": "code",
   "execution_count": 23,
   "id": "a109f0fe-a99f-49ec-b658-37dda0fbd476",
   "metadata": {},
   "outputs": [],
   "source": [
    "lgb_model = joblib.load('../../model/lgb_model.joblib')"
   ]
  },
  {
   "cell_type": "code",
   "execution_count": 29,
   "id": "5e07e4b4-b694-44c9-8113-815011ddad2e",
   "metadata": {},
   "outputs": [],
   "source": [
    "all_data['mana_group'] = pd.cut(all_data['mana'], 5, labels=[0,1,2,3,4])\n",
    "all_data['attack_group'] = pd.cut(all_data['attack'], 5, labels=[0,1,2,3,4])\n",
    "all_data['health_group'] = pd.cut(all_data['attack'], 5, labels=[0,1,2,3,4])\n",
    "gods_c = {'neutral': 0,\n",
    "          'light': 1,\n",
    "          'nature': 2,\n",
    "          'deception': 3,\n",
    "          'death': 4,\n",
    "          'war': 5,\n",
    "          'magic': 6}\n",
    "all_data['god_categories'] = all_data['god'].map(lambda x: gods_c.get(x, 7))\n",
    "type_c = {'creature': 0,\n",
    "          'spell': 1,\n",
    "          'weapon': 2,\n",
    "          'god power': 3}\n",
    "all_data['type_categories'] = all_data['type'].map(lambda x: type_c.get(x, 4))\n",
    "X = all_data[['type_categories', 'god_categories', 'mana_group', 'attack_group', 'health_group']]"
   ]
  },
  {
   "cell_type": "code",
   "execution_count": 30,
   "id": "827db46f-f7af-4722-bab4-079e3fdc1bc0",
   "metadata": {},
   "outputs": [],
   "source": [
    "all_data['strategy'] = (lgb_model.predict(X, num_iteration=lgb_model.best_iteration) > 0.5).astype(int)\n",
    "all_data['strategy'] = all_data.strategy.apply(lambda x: \"late\" if x == 1 else \"early\")"
   ]
  },
  {
   "cell_type": "code",
   "execution_count": 32,
   "id": "2aa5729c-d26a-4670-87d2-78cbc956d307",
   "metadata": {},
   "outputs": [
    {
     "data": {
      "text/html": [
       "<pre style=\"white-space:pre;overflow-x:auto;line-height:normal;font-family:Menlo,'DejaVu Sans Mono',consolas,'Courier New',monospace\"></pre>\n"
      ],
      "text/plain": []
     },
     "metadata": {},
     "output_type": "display_data"
    },
    {
     "data": {
      "text/html": [
       "<div>\n",
       "<style scoped>\n",
       "    .dataframe tbody tr th:only-of-type {\n",
       "        vertical-align: middle;\n",
       "    }\n",
       "\n",
       "    .dataframe tbody tr th {\n",
       "        vertical-align: top;\n",
       "    }\n",
       "\n",
       "    .dataframe thead th {\n",
       "        text-align: right;\n",
       "    }\n",
       "</style>\n",
       "<table border=\"1\" class=\"dataframe\">\n",
       "  <thead>\n",
       "    <tr style=\"text-align: right;\">\n",
       "      <th></th>\n",
       "      <th>id</th>\n",
       "      <th>name</th>\n",
       "      <th>mana</th>\n",
       "      <th>attack</th>\n",
       "      <th>health</th>\n",
       "      <th>type</th>\n",
       "      <th>god</th>\n",
       "      <th>strategy</th>\n",
       "    </tr>\n",
       "  </thead>\n",
       "  <tbody>\n",
       "    <tr>\n",
       "      <th>0</th>\n",
       "      <td>1118</td>\n",
       "      <td>Firewine</td>\n",
       "      <td>5</td>\n",
       "      <td>0</td>\n",
       "      <td>0</td>\n",
       "      <td>spell</td>\n",
       "      <td>nature</td>\n",
       "      <td>early</td>\n",
       "    </tr>\n",
       "    <tr>\n",
       "      <th>1</th>\n",
       "      <td>1036</td>\n",
       "      <td>Leyhoard Hatchling</td>\n",
       "      <td>10</td>\n",
       "      <td>2</td>\n",
       "      <td>1</td>\n",
       "      <td>creature</td>\n",
       "      <td>magic</td>\n",
       "      <td>late</td>\n",
       "    </tr>\n",
       "    <tr>\n",
       "      <th>2</th>\n",
       "      <td>244</td>\n",
       "      <td>Aetherfuel Alchemist</td>\n",
       "      <td>6</td>\n",
       "      <td>4</td>\n",
       "      <td>4</td>\n",
       "      <td>creature</td>\n",
       "      <td>neutral</td>\n",
       "      <td>late</td>\n",
       "    </tr>\n",
       "    <tr>\n",
       "      <th>3</th>\n",
       "      <td>215</td>\n",
       "      <td>Millenium Matryoshka</td>\n",
       "      <td>4</td>\n",
       "      <td>2</td>\n",
       "      <td>2</td>\n",
       "      <td>creature</td>\n",
       "      <td>neutral</td>\n",
       "      <td>late</td>\n",
       "    </tr>\n",
       "    <tr>\n",
       "      <th>4</th>\n",
       "      <td>87013</td>\n",
       "      <td>Poison Peddler</td>\n",
       "      <td>4</td>\n",
       "      <td>1</td>\n",
       "      <td>3</td>\n",
       "      <td>creature</td>\n",
       "      <td>neutral</td>\n",
       "      <td>late</td>\n",
       "    </tr>\n",
       "  </tbody>\n",
       "</table>\n",
       "</div>"
      ],
      "text/plain": [
       "\n",
       "      id                  name  mana  attack  health      type      god  \\\n",
       "\u001b[1;36m0\u001b[0m   \u001b[1;36m1118\u001b[0m              Firewine     \u001b[1;36m5\u001b[0m       \u001b[1;36m0\u001b[0m       \u001b[1;36m0\u001b[0m     spell   nature   \n",
       "\u001b[1;36m1\u001b[0m   \u001b[1;36m1036\u001b[0m    Leyhoard Hatchling    \u001b[1;36m10\u001b[0m       \u001b[1;36m2\u001b[0m       \u001b[1;36m1\u001b[0m  creature    magic   \n",
       "\u001b[1;36m2\u001b[0m    \u001b[1;36m244\u001b[0m  Aetherfuel Alchemist     \u001b[1;36m6\u001b[0m       \u001b[1;36m4\u001b[0m       \u001b[1;36m4\u001b[0m  creature  neutral   \n",
       "\u001b[1;36m3\u001b[0m    \u001b[1;36m215\u001b[0m  Millenium Matryoshka     \u001b[1;36m4\u001b[0m       \u001b[1;36m2\u001b[0m       \u001b[1;36m2\u001b[0m  creature  neutral   \n",
       "\u001b[1;36m4\u001b[0m  \u001b[1;36m87013\u001b[0m        Poison Peddler     \u001b[1;36m4\u001b[0m       \u001b[1;36m1\u001b[0m       \u001b[1;36m3\u001b[0m  creature  neutral   \n",
       "\n",
       "  strategy  \n",
       "\u001b[1;36m0\u001b[0m    early  \n",
       "\u001b[1;36m1\u001b[0m     late  \n",
       "\u001b[1;36m2\u001b[0m     late  \n",
       "\u001b[1;36m3\u001b[0m     late  \n",
       "\u001b[1;36m4\u001b[0m     late  "
      ]
     },
     "execution_count": 32,
     "metadata": {},
     "output_type": "execute_result"
    }
   ],
   "source": [
    "all_data[train_df.columns].head()"
   ]
  },
  {
   "cell_type": "code",
   "execution_count": null,
   "id": "31e4f81d-2c15-4172-acb7-569ccc1c0d1f",
   "metadata": {},
   "outputs": [],
   "source": []
  }
 ],
 "metadata": {
  "kernelspec": {
   "display_name": "Kedro (model_kedro)",
   "language": "python",
   "name": "kedro_model_kedro"
  },
  "language_info": {
   "codemirror_mode": {
    "name": "ipython",
    "version": 3
   },
   "file_extension": ".py",
   "mimetype": "text/x-python",
   "name": "python",
   "nbconvert_exporter": "python",
   "pygments_lexer": "ipython3",
   "version": "3.12.3"
  }
 },
 "nbformat": 4,
 "nbformat_minor": 5
}
